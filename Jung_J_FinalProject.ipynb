{
 "cells": [
  {
   "cell_type": "markdown",
   "metadata": {},
   "source": [
    "**J. Jung \"On my honor, as a student, I have neither given nor received unauthorized aid on this academic work.\"**"
   ]
  },
  {
   "cell_type": "raw",
   "metadata": {},
   "source": [
    "FAKEID\tthe ticket buyer's unique ID number\n",
    "YXdefect \t\"X\" indicates the year\n",
    "\tY3defect=1 for year 2 ticket holders that did not renew for year 3\n",
    "\tY3defect=0 for year 2 ticket holders that did renew for year 3\n",
    "\tY2defect=1 for year 1 ticket holders that did not renew for year 2\n",
    "\tY2defect=0 for year 1 ticket holders that did renew for year 2\n",
    "YXGZ\t\"X\" indicates the year, \"Z\" indicates the game\n",
    "\te.g. Y2G4=1 for the tickets being used for game 4 in year 2\n",
    "\te.g. Y2G4=0 for the tickets not being used for game 4 in year 2\n",
    "YXprice\t\"X\" indicates the year\n",
    "\tthe price paid per ticket in the indicated year\n",
    "YEARS\tthe number of years as a season ticket holder\n",
    "BACKER\t1=member of the team's \"backer\" club\n",
    "\t0=not a member of the team's \"backer\" club\n",
    "AGE\tage of the ticket buyer (blank=unknown)\n",
    "INCOME\tincome category of the ticket buyer (0=low, 6=high)\n",
    "CHILD\t1=at least one child age 0-18 in household (blank indicates none or unknown)\n",
    "GNDR\t1=male, 0=female, blank=unknown\n",
    "OWNHOME\t1=owns home, 0=does not own home, blank=unknown\n",
    "SPORT\tpurchased appended data\n",
    "\t1=subscribes to a sports magazine, 0=does not subscribe to a sports magazine, blank = unknown\n",
    "COMP\tpurchased appended data\n",
    "\t1=owns a PC (blank indicates does not own a PC or unknown)\n",
    "PCTMARR\tappended census data at zip code level\n",
    "\tpercentage of married heads of household\n",
    "HOMEVAL\tappended census data at zip code level\n",
    "\taverage value of homes in 1000s of dollars"
   ]
  },
  {
   "cell_type": "code",
   "execution_count": 14,
   "metadata": {},
   "outputs": [],
   "source": [
    "import numpy as np\n",
    "import pandas as pd\n",
    "import matplotlib.pyplot as plt\n",
    "import seaborn as sns\n",
    "%matplotlib inline\n",
    "\n",
    "#import decisiontreeclassifier\n",
    "from sklearn import tree\n",
    "from sklearn.tree import DecisionTreeClassifier\n",
    "#import logisticregression classifier\n",
    "from sklearn.linear_model import LogisticRegression\n",
    "import statsmodels.api as sm\n",
    "#import knn classifier\n",
    "from sklearn.neighbors import KNeighborsClassifier\n",
    "\n",
    "from sklearn import svm\n",
    "from sklearn.neural_network import MLPClassifier\n",
    "\n",
    "\n",
    "#ensemble classifier\n",
    "from sklearn.ensemble import RandomForestClassifier\n",
    "from sklearn.ensemble import GradientBoostingClassifier  #GBM algorithm\n",
    "\n",
    "from sklearn.metrics import classification_report, f1_score, accuracy_score, confusion_matrix\n",
    "from sklearn.model_selection import StratifiedKFold, cross_val_score, train_test_split, GridSearchCV, RandomizedSearchCV \n",
    "from sklearn import metrics\n",
    "from sklearn.metrics import roc_auc_score, auc\n",
    "\n",
    "# feature selection\n",
    "from sklearn.feature_selection import RFE\n",
    "from sklearn.ensemble import ExtraTreesClassifier\n",
    "from sklearn.feature_selection import SelectKBest\n",
    "from sklearn.feature_selection import chi2"
   ]
  },
  {
   "cell_type": "markdown",
   "metadata": {},
   "source": [
    "## Business and data understanding (e.g., problem statement, business contexts, the significance of the problem, the business value of the solution)"
   ]
  },
  {
   "cell_type": "markdown",
   "metadata": {},
   "source": [
    "We are interested to know whether ticket holder will renew their seasonal ticket in next year or not. In order to predict it precisely, it is important to arrange dataset and apply fit algorithm to existing dataset for forecasting whether they plan to renew their ticket.\n",
    "\n",
    "Before I do perform detail analysis, I believe following variables are important that must be considered to build model to predict whether customer will renew their sport seasonal ticket or not in next year.\n",
    "- How often they attended games last season\n",
    "- The number of years as a season ticket holder\n",
    "- The number of child"
   ]
  },
  {
   "cell_type": "markdown",
   "metadata": {},
   "source": [
    "## Data processing (ETL): A variety of ETL techniques should be used."
   ]
  },
  {
   "cell_type": "code",
   "execution_count": 15,
   "metadata": {},
   "outputs": [
    {
     "data": {
      "text/html": [
       "<div>\n",
       "<style>\n",
       "    .dataframe thead tr:only-child th {\n",
       "        text-align: right;\n",
       "    }\n",
       "\n",
       "    .dataframe thead th {\n",
       "        text-align: left;\n",
       "    }\n",
       "\n",
       "    .dataframe tbody tr th {\n",
       "        vertical-align: top;\n",
       "    }\n",
       "</style>\n",
       "<table border=\"1\" class=\"dataframe\">\n",
       "  <thead>\n",
       "    <tr style=\"text-align: right;\">\n",
       "      <th></th>\n",
       "      <th>FAKEID</th>\n",
       "      <th>Y2defect</th>\n",
       "      <th>Y1G5</th>\n",
       "      <th>Y1G4</th>\n",
       "      <th>Y1G3</th>\n",
       "      <th>Y1G2</th>\n",
       "      <th>Y1G1</th>\n",
       "      <th>Y1price</th>\n",
       "      <th>YEARS</th>\n",
       "      <th>BACKER</th>\n",
       "      <th>AGE</th>\n",
       "      <th>INCOME</th>\n",
       "      <th>CHILD</th>\n",
       "      <th>GNDR</th>\n",
       "      <th>OWNHOME</th>\n",
       "      <th>SPORT</th>\n",
       "      <th>COMP</th>\n",
       "      <th>PCTMARR</th>\n",
       "      <th>HOMEVAL</th>\n",
       "    </tr>\n",
       "  </thead>\n",
       "  <tbody>\n",
       "    <tr>\n",
       "      <th>0</th>\n",
       "      <td>580V74KT</td>\n",
       "      <td>0</td>\n",
       "      <td>0</td>\n",
       "      <td>0</td>\n",
       "      <td>1</td>\n",
       "      <td>1</td>\n",
       "      <td>1</td>\n",
       "      <td>15</td>\n",
       "      <td>8</td>\n",
       "      <td>1</td>\n",
       "      <td>94</td>\n",
       "      <td>4</td>\n",
       "      <td>NaN</td>\n",
       "      <td>0</td>\n",
       "      <td>1</td>\n",
       "      <td>NaN</td>\n",
       "      <td></td>\n",
       "      <td>77</td>\n",
       "      <td>203</td>\n",
       "    </tr>\n",
       "    <tr>\n",
       "      <th>1</th>\n",
       "      <td>298S54OK</td>\n",
       "      <td>1</td>\n",
       "      <td>0</td>\n",
       "      <td>0</td>\n",
       "      <td>1</td>\n",
       "      <td>0</td>\n",
       "      <td>1</td>\n",
       "      <td>15</td>\n",
       "      <td>3</td>\n",
       "      <td>1</td>\n",
       "      <td></td>\n",
       "      <td></td>\n",
       "      <td>NaN</td>\n",
       "      <td>0</td>\n",
       "      <td>0</td>\n",
       "      <td>NaN</td>\n",
       "      <td>1</td>\n",
       "      <td>53</td>\n",
       "      <td>68</td>\n",
       "    </tr>\n",
       "    <tr>\n",
       "      <th>2</th>\n",
       "      <td>268D25AO</td>\n",
       "      <td>1</td>\n",
       "      <td>1</td>\n",
       "      <td>0</td>\n",
       "      <td>0</td>\n",
       "      <td>0</td>\n",
       "      <td>1</td>\n",
       "      <td>15</td>\n",
       "      <td>11</td>\n",
       "      <td>1</td>\n",
       "      <td>67</td>\n",
       "      <td>2</td>\n",
       "      <td>NaN</td>\n",
       "      <td>0</td>\n",
       "      <td>1</td>\n",
       "      <td>0.0</td>\n",
       "      <td></td>\n",
       "      <td>50</td>\n",
       "      <td>38</td>\n",
       "    </tr>\n",
       "    <tr>\n",
       "      <th>3</th>\n",
       "      <td>312Q12WV</td>\n",
       "      <td>1</td>\n",
       "      <td>1</td>\n",
       "      <td>0</td>\n",
       "      <td>1</td>\n",
       "      <td>0</td>\n",
       "      <td>1</td>\n",
       "      <td>15</td>\n",
       "      <td>4</td>\n",
       "      <td>0</td>\n",
       "      <td>62</td>\n",
       "      <td>4</td>\n",
       "      <td></td>\n",
       "      <td>1</td>\n",
       "      <td>1</td>\n",
       "      <td>0.0</td>\n",
       "      <td>1</td>\n",
       "      <td>60</td>\n",
       "      <td>68</td>\n",
       "    </tr>\n",
       "    <tr>\n",
       "      <th>4</th>\n",
       "      <td>420R23VB</td>\n",
       "      <td>0</td>\n",
       "      <td>0</td>\n",
       "      <td>0</td>\n",
       "      <td>1</td>\n",
       "      <td>0</td>\n",
       "      <td>0</td>\n",
       "      <td>15</td>\n",
       "      <td>5</td>\n",
       "      <td>0</td>\n",
       "      <td>89</td>\n",
       "      <td>4</td>\n",
       "      <td></td>\n",
       "      <td>1</td>\n",
       "      <td>1</td>\n",
       "      <td>0.0</td>\n",
       "      <td></td>\n",
       "      <td>65</td>\n",
       "      <td>194</td>\n",
       "    </tr>\n",
       "  </tbody>\n",
       "</table>\n",
       "</div>"
      ],
      "text/plain": [
       "     FAKEID  Y2defect  Y1G5  Y1G4  Y1G3  Y1G2  Y1G1  Y1price  YEARS  BACKER  \\\n",
       "0  580V74KT         0     0     0     1     1     1       15      8       1   \n",
       "1  298S54OK         1     0     0     1     0     1       15      3       1   \n",
       "2  268D25AO         1     1     0     0     0     1       15     11       1   \n",
       "3  312Q12WV         1     1     0     1     0     1       15      4       0   \n",
       "4  420R23VB         0     0     0     1     0     0       15      5       0   \n",
       "\n",
       "  AGE INCOME CHILD GNDR OWNHOME  SPORT COMP  PCTMARR  HOMEVAL  \n",
       "0  94      4   NaN    0       1    NaN            77      203  \n",
       "1              NaN    0       0    NaN    1       53       68  \n",
       "2  67      2   NaN    0       1    0.0            50       38  \n",
       "3  62      4          1       1    0.0    1       60       68  \n",
       "4  89      4          1       1    0.0            65      194  "
      ]
     },
     "execution_count": 15,
     "metadata": {},
     "output_type": "execute_result"
    }
   ],
   "source": [
    "# load dataset file \n",
    "df=pd.read_excel(\"train_test_dataset.xlsx\")\n",
    "df.head()"
   ]
  },
  {
   "cell_type": "code",
   "execution_count": 16,
   "metadata": {},
   "outputs": [
    {
     "data": {
      "text/html": [
       "<div>\n",
       "<style>\n",
       "    .dataframe thead tr:only-child th {\n",
       "        text-align: right;\n",
       "    }\n",
       "\n",
       "    .dataframe thead th {\n",
       "        text-align: left;\n",
       "    }\n",
       "\n",
       "    .dataframe tbody tr th {\n",
       "        vertical-align: top;\n",
       "    }\n",
       "</style>\n",
       "<table border=\"1\" class=\"dataframe\">\n",
       "  <thead>\n",
       "    <tr style=\"text-align: right;\">\n",
       "      <th></th>\n",
       "      <th>FAKEID</th>\n",
       "      <th>Y2defect</th>\n",
       "      <th>Y1G5</th>\n",
       "      <th>Y1G4</th>\n",
       "      <th>Y1G3</th>\n",
       "      <th>Y1G2</th>\n",
       "      <th>Y1G1</th>\n",
       "      <th>Y1price</th>\n",
       "      <th>YEARS</th>\n",
       "      <th>BACKER</th>\n",
       "      <th>AGE</th>\n",
       "      <th>INCOME</th>\n",
       "      <th>CHILD</th>\n",
       "      <th>GNDR</th>\n",
       "      <th>OWNHOME</th>\n",
       "      <th>SPORT</th>\n",
       "      <th>COMP</th>\n",
       "      <th>PCTMARR</th>\n",
       "      <th>HOMEVAL</th>\n",
       "    </tr>\n",
       "  </thead>\n",
       "  <tbody>\n",
       "    <tr>\n",
       "      <th>0</th>\n",
       "      <td>580V74KT</td>\n",
       "      <td>0</td>\n",
       "      <td>0</td>\n",
       "      <td>0</td>\n",
       "      <td>1</td>\n",
       "      <td>1</td>\n",
       "      <td>1</td>\n",
       "      <td>15</td>\n",
       "      <td>8</td>\n",
       "      <td>1</td>\n",
       "      <td>94.0</td>\n",
       "      <td>4.0</td>\n",
       "      <td>NaN</td>\n",
       "      <td>0.0</td>\n",
       "      <td>1.0</td>\n",
       "      <td>NaN</td>\n",
       "      <td>NaN</td>\n",
       "      <td>77</td>\n",
       "      <td>203</td>\n",
       "    </tr>\n",
       "    <tr>\n",
       "      <th>1</th>\n",
       "      <td>298S54OK</td>\n",
       "      <td>1</td>\n",
       "      <td>0</td>\n",
       "      <td>0</td>\n",
       "      <td>1</td>\n",
       "      <td>0</td>\n",
       "      <td>1</td>\n",
       "      <td>15</td>\n",
       "      <td>3</td>\n",
       "      <td>1</td>\n",
       "      <td>NaN</td>\n",
       "      <td>NaN</td>\n",
       "      <td>NaN</td>\n",
       "      <td>0.0</td>\n",
       "      <td>0.0</td>\n",
       "      <td>NaN</td>\n",
       "      <td>1.0</td>\n",
       "      <td>53</td>\n",
       "      <td>68</td>\n",
       "    </tr>\n",
       "    <tr>\n",
       "      <th>2</th>\n",
       "      <td>268D25AO</td>\n",
       "      <td>1</td>\n",
       "      <td>1</td>\n",
       "      <td>0</td>\n",
       "      <td>0</td>\n",
       "      <td>0</td>\n",
       "      <td>1</td>\n",
       "      <td>15</td>\n",
       "      <td>11</td>\n",
       "      <td>1</td>\n",
       "      <td>67.0</td>\n",
       "      <td>2.0</td>\n",
       "      <td>NaN</td>\n",
       "      <td>0.0</td>\n",
       "      <td>1.0</td>\n",
       "      <td>0.0</td>\n",
       "      <td>NaN</td>\n",
       "      <td>50</td>\n",
       "      <td>38</td>\n",
       "    </tr>\n",
       "    <tr>\n",
       "      <th>3</th>\n",
       "      <td>312Q12WV</td>\n",
       "      <td>1</td>\n",
       "      <td>1</td>\n",
       "      <td>0</td>\n",
       "      <td>1</td>\n",
       "      <td>0</td>\n",
       "      <td>1</td>\n",
       "      <td>15</td>\n",
       "      <td>4</td>\n",
       "      <td>0</td>\n",
       "      <td>62.0</td>\n",
       "      <td>4.0</td>\n",
       "      <td>NaN</td>\n",
       "      <td>1.0</td>\n",
       "      <td>1.0</td>\n",
       "      <td>0.0</td>\n",
       "      <td>1.0</td>\n",
       "      <td>60</td>\n",
       "      <td>68</td>\n",
       "    </tr>\n",
       "    <tr>\n",
       "      <th>4</th>\n",
       "      <td>420R23VB</td>\n",
       "      <td>0</td>\n",
       "      <td>0</td>\n",
       "      <td>0</td>\n",
       "      <td>1</td>\n",
       "      <td>0</td>\n",
       "      <td>0</td>\n",
       "      <td>15</td>\n",
       "      <td>5</td>\n",
       "      <td>0</td>\n",
       "      <td>89.0</td>\n",
       "      <td>4.0</td>\n",
       "      <td>NaN</td>\n",
       "      <td>1.0</td>\n",
       "      <td>1.0</td>\n",
       "      <td>0.0</td>\n",
       "      <td>NaN</td>\n",
       "      <td>65</td>\n",
       "      <td>194</td>\n",
       "    </tr>\n",
       "  </tbody>\n",
       "</table>\n",
       "</div>"
      ],
      "text/plain": [
       "     FAKEID  Y2defect  Y1G5  Y1G4  Y1G3  Y1G2  Y1G1  Y1price  YEARS  BACKER  \\\n",
       "0  580V74KT         0     0     0     1     1     1       15      8       1   \n",
       "1  298S54OK         1     0     0     1     0     1       15      3       1   \n",
       "2  268D25AO         1     1     0     0     0     1       15     11       1   \n",
       "3  312Q12WV         1     1     0     1     0     1       15      4       0   \n",
       "4  420R23VB         0     0     0     1     0     0       15      5       0   \n",
       "\n",
       "    AGE  INCOME  CHILD  GNDR  OWNHOME  SPORT  COMP  PCTMARR  HOMEVAL  \n",
       "0  94.0     4.0    NaN   0.0      1.0    NaN   NaN       77      203  \n",
       "1   NaN     NaN    NaN   0.0      0.0    NaN   1.0       53       68  \n",
       "2  67.0     2.0    NaN   0.0      1.0    0.0   NaN       50       38  \n",
       "3  62.0     4.0    NaN   1.0      1.0    0.0   1.0       60       68  \n",
       "4  89.0     4.0    NaN   1.0      1.0    0.0   NaN       65      194  "
      ]
     },
     "execution_count": 16,
     "metadata": {},
     "output_type": "execute_result"
    }
   ],
   "source": [
    "# replace empty rows to NaN\n",
    "df=df.replace(r'\\s+', np.nan, regex=True)\n",
    "df.head()"
   ]
  },
  {
   "cell_type": "code",
   "execution_count": 17,
   "metadata": {},
   "outputs": [
    {
     "name": "stdout",
     "output_type": "stream",
     "text": [
      "<class 'pandas.core.frame.DataFrame'>\n",
      "RangeIndex: 9216 entries, 0 to 9215\n",
      "Data columns (total 19 columns):\n",
      "FAKEID      9216 non-null object\n",
      "Y2defect    9216 non-null int64\n",
      "Y1G5        9216 non-null int64\n",
      "Y1G4        9216 non-null int64\n",
      "Y1G3        9216 non-null int64\n",
      "Y1G2        9216 non-null int64\n",
      "Y1G1        9216 non-null int64\n",
      "Y1price     9216 non-null int64\n",
      "YEARS       9216 non-null int64\n",
      "BACKER      9216 non-null int64\n",
      "AGE         7223 non-null float64\n",
      "INCOME      7272 non-null float64\n",
      "CHILD       582 non-null float64\n",
      "GNDR        8718 non-null float64\n",
      "OWNHOME     7217 non-null float64\n",
      "SPORT       4273 non-null float64\n",
      "COMP        1009 non-null float64\n",
      "PCTMARR     9216 non-null int64\n",
      "HOMEVAL     9216 non-null int64\n",
      "dtypes: float64(7), int64(11), object(1)\n",
      "memory usage: 1.3+ MB\n"
     ]
    }
   ],
   "source": [
    "df.info()"
   ]
  },
  {
   "cell_type": "code",
   "execution_count": 18,
   "metadata": {},
   "outputs": [
    {
     "data": {
      "text/plain": [
       "FAKEID         0\n",
       "Y2defect       0\n",
       "Y1G5           0\n",
       "Y1G4           0\n",
       "Y1G3           0\n",
       "Y1G2           0\n",
       "Y1G1           0\n",
       "Y1price        0\n",
       "YEARS          0\n",
       "BACKER         0\n",
       "AGE         1993\n",
       "INCOME      1944\n",
       "CHILD       8634\n",
       "GNDR         498\n",
       "OWNHOME     1999\n",
       "SPORT       4943\n",
       "COMP        8207\n",
       "PCTMARR        0\n",
       "HOMEVAL        0\n",
       "dtype: int64"
      ]
     },
     "execution_count": 18,
     "metadata": {},
     "output_type": "execute_result"
    }
   ],
   "source": [
    "# find how many missing values exist at each coulmn\n",
    "df.isnull().sum()"
   ]
  },
  {
   "cell_type": "code",
   "execution_count": 19,
   "metadata": {},
   "outputs": [
    {
     "data": {
      "text/html": [
       "<div>\n",
       "<style>\n",
       "    .dataframe thead tr:only-child th {\n",
       "        text-align: right;\n",
       "    }\n",
       "\n",
       "    .dataframe thead th {\n",
       "        text-align: left;\n",
       "    }\n",
       "\n",
       "    .dataframe tbody tr th {\n",
       "        vertical-align: top;\n",
       "    }\n",
       "</style>\n",
       "<table border=\"1\" class=\"dataframe\">\n",
       "  <thead>\n",
       "    <tr style=\"text-align: right;\">\n",
       "      <th></th>\n",
       "      <th>FAKEID</th>\n",
       "      <th>Y2defect</th>\n",
       "      <th>Y1G5</th>\n",
       "      <th>Y1G4</th>\n",
       "      <th>Y1G3</th>\n",
       "      <th>Y1G2</th>\n",
       "      <th>Y1G1</th>\n",
       "      <th>Y1price</th>\n",
       "      <th>YEARS</th>\n",
       "      <th>BACKER</th>\n",
       "      <th>AGE</th>\n",
       "      <th>INCOME</th>\n",
       "      <th>CHILD</th>\n",
       "      <th>GNDR</th>\n",
       "      <th>OWNHOME</th>\n",
       "      <th>SPORT</th>\n",
       "      <th>COMP</th>\n",
       "      <th>PCTMARR</th>\n",
       "      <th>HOMEVAL</th>\n",
       "      <th>Total_games_a</th>\n",
       "    </tr>\n",
       "  </thead>\n",
       "  <tbody>\n",
       "    <tr>\n",
       "      <th>0</th>\n",
       "      <td>580V74KT</td>\n",
       "      <td>0</td>\n",
       "      <td>0</td>\n",
       "      <td>0</td>\n",
       "      <td>1</td>\n",
       "      <td>1</td>\n",
       "      <td>1</td>\n",
       "      <td>15</td>\n",
       "      <td>8</td>\n",
       "      <td>1</td>\n",
       "      <td>94.0</td>\n",
       "      <td>4.0</td>\n",
       "      <td>NaN</td>\n",
       "      <td>0.0</td>\n",
       "      <td>1.0</td>\n",
       "      <td>NaN</td>\n",
       "      <td>NaN</td>\n",
       "      <td>77</td>\n",
       "      <td>203</td>\n",
       "      <td>3</td>\n",
       "    </tr>\n",
       "  </tbody>\n",
       "</table>\n",
       "</div>"
      ],
      "text/plain": [
       "     FAKEID  Y2defect  Y1G5  Y1G4  Y1G3  Y1G2  Y1G1  Y1price  YEARS  BACKER  \\\n",
       "0  580V74KT         0     0     0     1     1     1       15      8       1   \n",
       "\n",
       "    AGE  INCOME  CHILD  GNDR  OWNHOME  SPORT  COMP  PCTMARR  HOMEVAL  \\\n",
       "0  94.0     4.0    NaN   0.0      1.0    NaN   NaN       77      203   \n",
       "\n",
       "   Total_games_a  \n",
       "0              3  "
      ]
     },
     "execution_count": 19,
     "metadata": {},
     "output_type": "execute_result"
    }
   ],
   "source": [
    "# create column total number of games attedend\n",
    "df['Total_games_a'] = df['Y1G5'] + df['Y1G4']+ df['Y1G3']+ df['Y1G2']+ df['Y1G1']\n",
    "df.head(1)"
   ]
  },
  {
   "cell_type": "markdown",
   "metadata": {},
   "source": [
    "- there are too many missing values in child, sport and comp column so they are dropped.\n",
    "- Y1Gx columns are not useful anymore for anlalysis, so they need to be dropped. "
   ]
  },
  {
   "cell_type": "code",
   "execution_count": 20,
   "metadata": {},
   "outputs": [
    {
     "data": {
      "text/html": [
       "<div>\n",
       "<style>\n",
       "    .dataframe thead tr:only-child th {\n",
       "        text-align: right;\n",
       "    }\n",
       "\n",
       "    .dataframe thead th {\n",
       "        text-align: left;\n",
       "    }\n",
       "\n",
       "    .dataframe tbody tr th {\n",
       "        vertical-align: top;\n",
       "    }\n",
       "</style>\n",
       "<table border=\"1\" class=\"dataframe\">\n",
       "  <thead>\n",
       "    <tr style=\"text-align: right;\">\n",
       "      <th></th>\n",
       "      <th>FAKEID</th>\n",
       "      <th>Y2defect</th>\n",
       "      <th>Y1price</th>\n",
       "      <th>YEARS</th>\n",
       "      <th>BACKER</th>\n",
       "      <th>AGE</th>\n",
       "      <th>INCOME</th>\n",
       "      <th>GNDR</th>\n",
       "      <th>OWNHOME</th>\n",
       "      <th>PCTMARR</th>\n",
       "      <th>HOMEVAL</th>\n",
       "      <th>Total_games_a</th>\n",
       "    </tr>\n",
       "  </thead>\n",
       "  <tbody>\n",
       "    <tr>\n",
       "      <th>0</th>\n",
       "      <td>580V74KT</td>\n",
       "      <td>0</td>\n",
       "      <td>15</td>\n",
       "      <td>8</td>\n",
       "      <td>1</td>\n",
       "      <td>94.0</td>\n",
       "      <td>4.0</td>\n",
       "      <td>0.0</td>\n",
       "      <td>1.0</td>\n",
       "      <td>77</td>\n",
       "      <td>203</td>\n",
       "      <td>3</td>\n",
       "    </tr>\n",
       "  </tbody>\n",
       "</table>\n",
       "</div>"
      ],
      "text/plain": [
       "     FAKEID  Y2defect  Y1price  YEARS  BACKER   AGE  INCOME  GNDR  OWNHOME  \\\n",
       "0  580V74KT         0       15      8       1  94.0     4.0   0.0      1.0   \n",
       "\n",
       "   PCTMARR  HOMEVAL  Total_games_a  \n",
       "0       77      203              3  "
      ]
     },
     "execution_count": 20,
     "metadata": {},
     "output_type": "execute_result"
    }
   ],
   "source": [
    "# drop columns\n",
    "df=df.drop(['CHILD','COMP','SPORT','Y1G5','Y1G4','Y1G3','Y1G2','Y1G1'], axis=1)\n",
    "df.head(1)"
   ]
  },
  {
   "cell_type": "code",
   "execution_count": 21,
   "metadata": {},
   "outputs": [
    {
     "name": "stdout",
     "output_type": "stream",
     "text": [
      "<class 'pandas.core.frame.DataFrame'>\n",
      "RangeIndex: 9216 entries, 0 to 9215\n",
      "Data columns (total 12 columns):\n",
      "FAKEID           9216 non-null object\n",
      "Y2defect         9216 non-null int64\n",
      "Y1price          9216 non-null int64\n",
      "YEARS            9216 non-null int64\n",
      "BACKER           9216 non-null int64\n",
      "AGE              9216 non-null float64\n",
      "INCOME           9216 non-null float64\n",
      "GNDR             9216 non-null float64\n",
      "OWNHOME          9216 non-null float64\n",
      "PCTMARR          9216 non-null int64\n",
      "HOMEVAL          9216 non-null int64\n",
      "Total_games_a    9216 non-null int64\n",
      "dtypes: float64(4), int64(7), object(1)\n",
      "memory usage: 864.1+ KB\n"
     ]
    }
   ],
   "source": [
    "# replace empty rows to each column's mean value. \n",
    "df[\"AGE\"].fillna(df[\"AGE\"].mean(), inplace=True)\n",
    "df[\"INCOME\"].fillna(df[\"INCOME\"].mean(), inplace=True)\n",
    "df[\"GNDR\"].fillna(df[\"GNDR\"].mean(), inplace=True)\n",
    "df[\"OWNHOME\"].fillna(df[\"OWNHOME\"].mean(), inplace=True)\n",
    "\n",
    "df.info()"
   ]
  },
  {
   "cell_type": "markdown",
   "metadata": {},
   "source": [
    "## Data visualization: This section includes many charts, pivot tables, and other visualizations using matplotlib, seaborn, groupby, pivot, etc."
   ]
  },
  {
   "cell_type": "code",
   "execution_count": 22,
   "metadata": {},
   "outputs": [
    {
     "data": {
      "text/html": [
       "<div>\n",
       "<style>\n",
       "    .dataframe thead tr:only-child th {\n",
       "        text-align: right;\n",
       "    }\n",
       "\n",
       "    .dataframe thead th {\n",
       "        text-align: left;\n",
       "    }\n",
       "\n",
       "    .dataframe tbody tr th {\n",
       "        vertical-align: top;\n",
       "    }\n",
       "</style>\n",
       "<table border=\"1\" class=\"dataframe\">\n",
       "  <thead>\n",
       "    <tr style=\"text-align: right;\">\n",
       "      <th></th>\n",
       "      <th>Y1price</th>\n",
       "      <th>YEARS</th>\n",
       "      <th>BACKER</th>\n",
       "      <th>AGE</th>\n",
       "      <th>INCOME</th>\n",
       "      <th>GNDR</th>\n",
       "      <th>OWNHOME</th>\n",
       "      <th>PCTMARR</th>\n",
       "      <th>HOMEVAL</th>\n",
       "      <th>Total_games_a</th>\n",
       "    </tr>\n",
       "    <tr>\n",
       "      <th>Y2defect</th>\n",
       "      <th></th>\n",
       "      <th></th>\n",
       "      <th></th>\n",
       "      <th></th>\n",
       "      <th></th>\n",
       "      <th></th>\n",
       "      <th></th>\n",
       "      <th></th>\n",
       "      <th></th>\n",
       "      <th></th>\n",
       "    </tr>\n",
       "  </thead>\n",
       "  <tbody>\n",
       "    <tr>\n",
       "      <th>0</th>\n",
       "      <td>20.170356</td>\n",
       "      <td>6.777778</td>\n",
       "      <td>0.584418</td>\n",
       "      <td>61.740804</td>\n",
       "      <td>2.865717</td>\n",
       "      <td>0.443267</td>\n",
       "      <td>0.726465</td>\n",
       "      <td>58.536458</td>\n",
       "      <td>109.368273</td>\n",
       "      <td>2.429253</td>\n",
       "    </tr>\n",
       "    <tr>\n",
       "      <th>1</th>\n",
       "      <td>19.755859</td>\n",
       "      <td>5.978299</td>\n",
       "      <td>0.394531</td>\n",
       "      <td>61.045019</td>\n",
       "      <td>2.898585</td>\n",
       "      <td>0.451205</td>\n",
       "      <td>0.710697</td>\n",
       "      <td>57.920573</td>\n",
       "      <td>114.854167</td>\n",
       "      <td>2.082031</td>\n",
       "    </tr>\n",
       "  </tbody>\n",
       "</table>\n",
       "</div>"
      ],
      "text/plain": [
       "            Y1price     YEARS    BACKER        AGE    INCOME      GNDR  \\\n",
       "Y2defect                                                                 \n",
       "0         20.170356  6.777778  0.584418  61.740804  2.865717  0.443267   \n",
       "1         19.755859  5.978299  0.394531  61.045019  2.898585  0.451205   \n",
       "\n",
       "           OWNHOME    PCTMARR     HOMEVAL  Total_games_a  \n",
       "Y2defect                                                  \n",
       "0         0.726465  58.536458  109.368273       2.429253  \n",
       "1         0.710697  57.920573  114.854167       2.082031  "
      ]
     },
     "execution_count": 22,
     "metadata": {},
     "output_type": "execute_result"
    }
   ],
   "source": [
    "# pivot table for Y2defect\n",
    "df.groupby(['Y2defect']).mean()"
   ]
  },
  {
   "cell_type": "markdown",
   "metadata": {},
   "source": [
    "Y2defect = 0 means ticket holders that did renew for year 2. According to pivot table above, we can see than ticket holders who did renew for year2 have ticket for more years and are member of backer club. Also, they watched more game in season year 1 and their average house price is lower.  "
   ]
  },
  {
   "cell_type": "markdown",
   "metadata": {},
   "source": [
    "## Exploratory data analysis: This section includes correlation analysis, pairwise heatmaps, and statistical hypothesis tests (e.g., t-testing, ANOVA)"
   ]
  },
  {
   "cell_type": "code",
   "execution_count": 23,
   "metadata": {},
   "outputs": [
    {
     "data": {
      "text/html": [
       "<div>\n",
       "<style>\n",
       "    .dataframe thead tr:only-child th {\n",
       "        text-align: right;\n",
       "    }\n",
       "\n",
       "    .dataframe thead th {\n",
       "        text-align: left;\n",
       "    }\n",
       "\n",
       "    .dataframe tbody tr th {\n",
       "        vertical-align: top;\n",
       "    }\n",
       "</style>\n",
       "<table border=\"1\" class=\"dataframe\">\n",
       "  <thead>\n",
       "    <tr style=\"text-align: right;\">\n",
       "      <th></th>\n",
       "      <th>Y2defect</th>\n",
       "    </tr>\n",
       "  </thead>\n",
       "  <tbody>\n",
       "    <tr>\n",
       "      <th>Y1price</th>\n",
       "      <td>-0.023498</td>\n",
       "    </tr>\n",
       "    <tr>\n",
       "      <th>YEARS</th>\n",
       "      <td>-0.139099</td>\n",
       "    </tr>\n",
       "    <tr>\n",
       "      <th>BACKER</th>\n",
       "      <td>-0.189929</td>\n",
       "    </tr>\n",
       "    <tr>\n",
       "      <th>AGE</th>\n",
       "      <td>-0.023682</td>\n",
       "    </tr>\n",
       "    <tr>\n",
       "      <th>INCOME</th>\n",
       "      <td>0.010034</td>\n",
       "    </tr>\n",
       "    <tr>\n",
       "      <th>GNDR</th>\n",
       "      <td>0.008207</td>\n",
       "    </tr>\n",
       "    <tr>\n",
       "      <th>OWNHOME</th>\n",
       "      <td>-0.019812</td>\n",
       "    </tr>\n",
       "    <tr>\n",
       "      <th>PCTMARR</th>\n",
       "      <td>-0.023869</td>\n",
       "    </tr>\n",
       "    <tr>\n",
       "      <th>HOMEVAL</th>\n",
       "      <td>0.029722</td>\n",
       "    </tr>\n",
       "    <tr>\n",
       "      <th>Total_games_a</th>\n",
       "      <td>-0.164720</td>\n",
       "    </tr>\n",
       "  </tbody>\n",
       "</table>\n",
       "</div>"
      ],
      "text/plain": [
       "               Y2defect\n",
       "Y1price       -0.023498\n",
       "YEARS         -0.139099\n",
       "BACKER        -0.189929\n",
       "AGE           -0.023682\n",
       "INCOME         0.010034\n",
       "GNDR           0.008207\n",
       "OWNHOME       -0.019812\n",
       "PCTMARR       -0.023869\n",
       "HOMEVAL        0.029722\n",
       "Total_games_a -0.164720"
      ]
     },
     "execution_count": 23,
     "metadata": {},
     "output_type": "execute_result"
    }
   ],
   "source": [
    "# correlation analysis\n",
    "corr = pd.DataFrame(df.corr()['Y2defect'].drop('Y2defect'))\n",
    "corr"
   ]
  },
  {
   "cell_type": "markdown",
   "metadata": {},
   "source": [
    "Years, Backer and Total number of games they watched have stronger corrleationship with Y2 defect than other variables. "
   ]
  },
  {
   "cell_type": "markdown",
   "metadata": {},
   "source": [
    "** Hypothesis test of Y2defects in terms of Years, Backer and Total number of games ** "
   ]
  },
  {
   "cell_type": "code",
   "execution_count": 24,
   "metadata": {},
   "outputs": [
    {
     "name": "stdout",
     "output_type": "stream",
     "text": [
      "The t-statistic is -13.483 and the p-value is 0.000.\n"
     ]
    }
   ],
   "source": [
    "#Hypothesis test of Y2defect in terms of Years\n",
    "import scipy.stats as stats\n",
    "Y2defect_yes_YEARS = df[df['Y2defect'] == 1]['YEARS']\n",
    "Y2defect_no_YEARS = df[df['Y2defect'] == 0]['YEARS']\n",
    "stats.ttest_ind(Y2defect_yes_YEARS, Y2defect_no_YEARS)\n",
    "two_sample= stats.ttest_ind(Y2defect_yes_YEARS, Y2defect_no_YEARS)\n",
    "print \"The t-statistic is %.3f and the p-value is %.3f.\" % two_sample"
   ]
  },
  {
   "cell_type": "code",
   "execution_count": 25,
   "metadata": {},
   "outputs": [
    {
     "name": "stdout",
     "output_type": "stream",
     "text": [
      "The t-statistic is -18.569 and the p-value is 0.000.\n"
     ]
    }
   ],
   "source": [
    "#Hypothesis test of Y2defect in terms of Backer\n",
    "Y2defect_yes_BACKER = df[df['Y2defect'] == 1]['BACKER']\n",
    "Y2defect_no_BACKER = df[df['Y2defect'] == 0]['BACKER']\n",
    "stats.ttest_ind(Y2defect_yes_BACKER, Y2defect_no_BACKER)\n",
    "two_sample= stats.ttest_ind(Y2defect_yes_BACKER, Y2defect_no_BACKER)\n",
    "print \"The t-statistic is %.3f and the p-value is %.3f.\" % two_sample"
   ]
  },
  {
   "cell_type": "code",
   "execution_count": 26,
   "metadata": {},
   "outputs": [
    {
     "name": "stdout",
     "output_type": "stream",
     "text": [
      "The t-statistic is -16.030 and the p-value is 0.000.\n"
     ]
    }
   ],
   "source": [
    "#Hypothesis test of Y2defect in terms of Total games watched\n",
    "Y2defect_yes_Total_games_a = df[df['Y2defect'] == 1]['Total_games_a']\n",
    "Y2defect_no_Total_games_a = df[df['Y2defect'] == 0]['Total_games_a']\n",
    "stats.ttest_ind(Y2defect_yes_Total_games_a, Y2defect_no_Total_games_a)\n",
    "two_sample= stats.ttest_ind(Y2defect_yes_Total_games_a, Y2defect_no_Total_games_a)\n",
    "print \"The t-statistic is %.3f and the p-value is %.3f.\" % two_sample"
   ]
  },
  {
   "cell_type": "markdown",
   "metadata": {},
   "source": [
    "- all top three Results are showing that Null hypothesis is rejected which means they are not same. \n",
    "- Since we have a low p value, we do not accept the null hypothsis. That means those who are renewing ticket or not are different in terms of Years, Backer and Total game they watched in first season. "
   ]
  },
  {
   "cell_type": "markdown",
   "metadata": {},
   "source": [
    "## Model building: This is a critical part of your project. You use a variety of classifiers (or algorithms) and build multiple models"
   ]
  },
  {
   "cell_type": "markdown",
   "metadata": {},
   "source": [
    "### SelectKBest"
   ]
  },
  {
   "cell_type": "code",
   "execution_count": 27,
   "metadata": {
    "collapsed": true
   },
   "outputs": [],
   "source": [
    "y = df['Y2defect']\n",
    "X = df.drop(['Y2defect','FAKEID'], axis=1)"
   ]
  },
  {
   "cell_type": "code",
   "execution_count": 28,
   "metadata": {},
   "outputs": [
    {
     "data": {
      "text/html": [
       "<div>\n",
       "<style>\n",
       "    .dataframe thead tr:only-child th {\n",
       "        text-align: right;\n",
       "    }\n",
       "\n",
       "    .dataframe thead th {\n",
       "        text-align: left;\n",
       "    }\n",
       "\n",
       "    .dataframe tbody tr th {\n",
       "        vertical-align: top;\n",
       "    }\n",
       "</style>\n",
       "<table border=\"1\" class=\"dataframe\">\n",
       "  <thead>\n",
       "    <tr style=\"text-align: right;\">\n",
       "      <th></th>\n",
       "      <th>Y1price</th>\n",
       "      <th>YEARS</th>\n",
       "      <th>BACKER</th>\n",
       "      <th>AGE</th>\n",
       "      <th>INCOME</th>\n",
       "      <th>GNDR</th>\n",
       "      <th>OWNHOME</th>\n",
       "      <th>PCTMARR</th>\n",
       "      <th>HOMEVAL</th>\n",
       "      <th>Total_games_a</th>\n",
       "    </tr>\n",
       "  </thead>\n",
       "  <tbody>\n",
       "    <tr>\n",
       "      <th>0</th>\n",
       "      <td>15</td>\n",
       "      <td>8</td>\n",
       "      <td>1</td>\n",
       "      <td>94.0</td>\n",
       "      <td>4.0</td>\n",
       "      <td>0.0</td>\n",
       "      <td>1.0</td>\n",
       "      <td>77</td>\n",
       "      <td>203</td>\n",
       "      <td>3</td>\n",
       "    </tr>\n",
       "  </tbody>\n",
       "</table>\n",
       "</div>"
      ],
      "text/plain": [
       "   Y1price  YEARS  BACKER   AGE  INCOME  GNDR  OWNHOME  PCTMARR  HOMEVAL  \\\n",
       "0       15      8       1  94.0     4.0   0.0      1.0       77      203   \n",
       "\n",
       "   Total_games_a  \n",
       "0              3  "
      ]
     },
     "execution_count": 28,
     "metadata": {},
     "output_type": "execute_result"
    }
   ],
   "source": [
    "X.head(1)"
   ]
  },
  {
   "cell_type": "code",
   "execution_count": 29,
   "metadata": {},
   "outputs": [
    {
     "name": "stdout",
     "output_type": "stream",
     "text": [
      "[[   8.    1.  203.]\n",
      " [   3.    1.   68.]\n",
      " [  11.    1.   38.]\n",
      " ..., \n",
      " [   6.    0.   95.]\n",
      " [   7.    1.   37.]\n",
      " [   7.    1.  344.]]\n"
     ]
    }
   ],
   "source": [
    "X_new = SelectKBest(chi2, k=3).fit_transform(X, y)\n",
    "print X_new"
   ]
  },
  {
   "cell_type": "code",
   "execution_count": 30,
   "metadata": {},
   "outputs": [
    {
     "name": "stdout",
     "output_type": "stream",
     "text": [
      "[1 2 8]\n"
     ]
    }
   ],
   "source": [
    "# SelectKBEST \n",
    "X_new = SelectKBest(chi2, k=3).fit(X, y)\n",
    "print X_new.get_support(indices=True)\n"
   ]
  },
  {
   "cell_type": "markdown",
   "metadata": {},
   "source": [
    "** YEARS, BACKER, and HOMEVAL are important variables by using SelectKBest. **"
   ]
  },
  {
   "cell_type": "markdown",
   "metadata": {},
   "source": [
    "### Recursive Feature Selection"
   ]
  },
  {
   "cell_type": "code",
   "execution_count": 31,
   "metadata": {},
   "outputs": [
    {
     "name": "stdout",
     "output_type": "stream",
     "text": [
      "[False False  True False False False False False False  True]\n",
      "[5 3 1 6 7 4 2 8 9 1]\n"
     ]
    }
   ],
   "source": [
    "model = LogisticRegression()\n",
    "rfe = RFE(model, 2)  #asking four best attributes\n",
    "rfe = rfe.fit(X, y)\n",
    "# summarize the selection of the attributes\n",
    "print(rfe.support_)\n",
    "print(rfe.ranking_)"
   ]
  },
  {
   "cell_type": "code",
   "execution_count": 32,
   "metadata": {},
   "outputs": [
    {
     "data": {
      "text/html": [
       "<div>\n",
       "<style>\n",
       "    .dataframe thead tr:only-child th {\n",
       "        text-align: right;\n",
       "    }\n",
       "\n",
       "    .dataframe thead th {\n",
       "        text-align: left;\n",
       "    }\n",
       "\n",
       "    .dataframe tbody tr th {\n",
       "        vertical-align: top;\n",
       "    }\n",
       "</style>\n",
       "<table border=\"1\" class=\"dataframe\">\n",
       "  <thead>\n",
       "    <tr style=\"text-align: right;\">\n",
       "      <th></th>\n",
       "      <th>feature</th>\n",
       "      <th>importance</th>\n",
       "    </tr>\n",
       "  </thead>\n",
       "  <tbody>\n",
       "    <tr>\n",
       "      <th>0</th>\n",
       "      <td>Y1price</td>\n",
       "      <td>5</td>\n",
       "    </tr>\n",
       "    <tr>\n",
       "      <th>1</th>\n",
       "      <td>YEARS</td>\n",
       "      <td>3</td>\n",
       "    </tr>\n",
       "    <tr>\n",
       "      <th>2</th>\n",
       "      <td>BACKER</td>\n",
       "      <td>1</td>\n",
       "    </tr>\n",
       "    <tr>\n",
       "      <th>3</th>\n",
       "      <td>AGE</td>\n",
       "      <td>6</td>\n",
       "    </tr>\n",
       "    <tr>\n",
       "      <th>4</th>\n",
       "      <td>INCOME</td>\n",
       "      <td>7</td>\n",
       "    </tr>\n",
       "    <tr>\n",
       "      <th>5</th>\n",
       "      <td>GNDR</td>\n",
       "      <td>4</td>\n",
       "    </tr>\n",
       "    <tr>\n",
       "      <th>6</th>\n",
       "      <td>OWNHOME</td>\n",
       "      <td>2</td>\n",
       "    </tr>\n",
       "    <tr>\n",
       "      <th>7</th>\n",
       "      <td>PCTMARR</td>\n",
       "      <td>8</td>\n",
       "    </tr>\n",
       "    <tr>\n",
       "      <th>8</th>\n",
       "      <td>HOMEVAL</td>\n",
       "      <td>9</td>\n",
       "    </tr>\n",
       "    <tr>\n",
       "      <th>9</th>\n",
       "      <td>Total_games_a</td>\n",
       "      <td>1</td>\n",
       "    </tr>\n",
       "  </tbody>\n",
       "</table>\n",
       "</div>"
      ],
      "text/plain": [
       "         feature  importance\n",
       "0        Y1price           5\n",
       "1          YEARS           3\n",
       "2         BACKER           1\n",
       "3            AGE           6\n",
       "4         INCOME           7\n",
       "5           GNDR           4\n",
       "6        OWNHOME           2\n",
       "7        PCTMARR           8\n",
       "8        HOMEVAL           9\n",
       "9  Total_games_a           1"
      ]
     },
     "execution_count": 32,
     "metadata": {},
     "output_type": "execute_result"
    }
   ],
   "source": [
    "# Features sorted by their rank\n",
    "pd.DataFrame({'feature':X.columns, 'importance':rfe.ranking_})"
   ]
  },
  {
   "cell_type": "code",
   "execution_count": 33,
   "metadata": {},
   "outputs": [
    {
     "name": "stdout",
     "output_type": "stream",
     "text": [
      "   BACKER  Total_games_a\n",
      "0       1              3\n",
      "1       1              2\n",
      "2       1              2\n",
      "3       0              3\n",
      "4       0              1\n"
     ]
    }
   ],
   "source": [
    "X_logistic = df[['BACKER','Total_games_a']]\n",
    "print X_logistic.head()"
   ]
  },
  {
   "cell_type": "markdown",
   "metadata": {},
   "source": [
    "** Decision Tree **"
   ]
  },
  {
   "cell_type": "code",
   "execution_count": 34,
   "metadata": {},
   "outputs": [
    {
     "name": "stdout",
     "output_type": "stream",
     "text": [
      "0.599638336347\n",
      "--------------------------------------------------------\n",
      "[[1004  359]\n",
      " [ 748  654]]\n",
      "--------------------------------------------------------\n",
      "             precision    recall  f1-score   support\n",
      "\n",
      "          0       0.57      0.74      0.64      1363\n",
      "          1       0.65      0.47      0.54      1402\n",
      "\n",
      "avg / total       0.61      0.60      0.59      2765\n",
      "\n",
      "--------------------------------------------------------\n",
      "0.601543440196\n"
     ]
    }
   ],
   "source": [
    "# evaluate the model by splitting into train (70%) and test sets (30%)\n",
    "X_train, X_test, y_train, y_test = train_test_split(X_logistic, y, test_size=0.3, random_state=0)\n",
    "#model2 = tree.DecisionTreeClassifier(criterion='entropy', max_depth=3,min_samples_leaf=5)\n",
    "dt = tree.DecisionTreeClassifier()\n",
    "dt.fit(X_train, y_train)\n",
    "\n",
    "#Model evaluation\n",
    "print metrics.accuracy_score(y_test, dt.predict(X_test))\n",
    "print \"--------------------------------------------------------\"\n",
    "print metrics.confusion_matrix(y_test, dt.predict(X_test)) \n",
    "print \"--------------------------------------------------------\"\n",
    "print metrics.classification_report(y_test, dt.predict(X_test))\n",
    "print \"--------------------------------------------------------\"\n",
    "print metrics.roc_auc_score(y_test, dt.predict(X_test))"
   ]
  },
  {
   "cell_type": "markdown",
   "metadata": {},
   "source": [
    "** K-nearestNeighbors **"
   ]
  },
  {
   "cell_type": "code",
   "execution_count": 35,
   "metadata": {},
   "outputs": [
    {
     "name": "stderr",
     "output_type": "stream",
     "text": [
      "C:\\Users\\jhjoa\\Anaconda2\\lib\\site-packages\\sklearn\\cross_validation.py:41: DeprecationWarning: This module was deprecated in version 0.18 in favor of the model_selection module into which all the refactored classes and functions are moved. Also note that the interface of the new CV iterators are different from that of this module. This module will be removed in 0.20.\n",
      "  \"This module will be removed in 0.20.\", DeprecationWarning)\n",
      "C:\\Users\\jhjoa\\Anaconda2\\lib\\site-packages\\sklearn\\grid_search.py:42: DeprecationWarning: This module was deprecated in version 0.18 in favor of the model_selection module into which all the refactored classes and functions are moved. This module will be removed in 0.20.\n",
      "  DeprecationWarning)\n"
     ]
    },
    {
     "data": {
      "image/png": "[encoded data removed]",
      "text/plain": [
       "<matplotlib.figure.Figure at 0x10705860>"
      ]
     },
     "metadata": {},
     "output_type": "display_data"
    }
   ],
   "source": [
    "# automatic grid search for an optimal value of K\n",
    "#http://scikit-learn.org/stable/modules/generated/sklearn.grid_search.GridSearchCV.html\n",
    "\n",
    "from sklearn.grid_search import GridSearchCV\n",
    "\n",
    "knn = KNeighborsClassifier()\n",
    "k_range = range(1, 10)\n",
    "param_grid = dict(n_neighbors=k_range)\n",
    "grid = GridSearchCV(knn, param_grid, cv=10, scoring='accuracy')\n",
    "grid.fit(X_logistic, y)\n",
    "\n",
    "# check the results of the grid search\n",
    "grid.grid_scores_\n",
    "grid_mean_scores = [result[1] for result in grid.grid_scores_]\n",
    "plt.figure()\n",
    "plt.plot(k_range, grid_mean_scores)\n",
    "plt.show()"
   ]
  },
  {
   "cell_type": "code",
   "execution_count": 36,
   "metadata": {
    "scrolled": true
   },
   "outputs": [
    {
     "name": "stdout",
     "output_type": "stream",
     "text": [
      "0.560763888889\n",
      "{'n_neighbors': 7}\n",
      "KNeighborsClassifier(algorithm='auto', leaf_size=30, metric='minkowski',\n",
      "           metric_params=None, n_jobs=1, n_neighbors=7, p=2,\n",
      "           weights='uniform')\n"
     ]
    }
   ],
   "source": [
    "print grid.best_score_\n",
    "print grid.best_params_\n",
    "print grid.best_estimator_"
   ]
  },
  {
   "cell_type": "code",
   "execution_count": 37,
   "metadata": {},
   "outputs": [
    {
     "name": "stdout",
     "output_type": "stream",
     "text": [
      "0.602169981917\n",
      "--------------------------------------------------------\n",
      "[[947 416]\n",
      " [684 718]]\n",
      "--------------------------------------------------------\n",
      "             precision    recall  f1-score   support\n",
      "\n",
      "          0       0.58      0.69      0.63      1363\n",
      "          1       0.63      0.51      0.57      1402\n",
      "\n",
      "avg / total       0.61      0.60      0.60      2765\n",
      "\n",
      "--------------------------------------------------------\n",
      "0.603458218686\n"
     ]
    }
   ],
   "source": [
    "# develop a new knn model with k = 7\n",
    "X_train, X_test, y_train, y_test = train_test_split(X_logistic, y, test_size=0.3, random_state=0)\n",
    "dt = KNeighborsClassifier(n_neighbors=7)\n",
    "dt.fit(X_train, y_train)\n",
    "#Model evaluation\n",
    "print metrics.accuracy_score(y_test, dt.predict(X_test))\n",
    "print \"--------------------------------------------------------\"\n",
    "print metrics.confusion_matrix(y_test, dt.predict(X_test)) \n",
    "print \"--------------------------------------------------------\"\n",
    "print metrics.classification_report(y_test, dt.predict(X_test))\n",
    "print \"--------------------------------------------------------\"\n",
    "print metrics.roc_auc_score(y_test, dt.predict(X_test))"
   ]
  },
  {
   "cell_type": "markdown",
   "metadata": {},
   "source": [
    "** LogisticRegression **"
   ]
  },
  {
   "cell_type": "code",
   "execution_count": 38,
   "metadata": {},
   "outputs": [
    {
     "name": "stdout",
     "output_type": "stream",
     "text": [
      "0.59095840868\n",
      "[[866 497]\n",
      " [634 768]]\n",
      "             precision    recall  f1-score   support\n",
      "\n",
      "          0       0.58      0.64      0.60      1363\n",
      "          1       0.61      0.55      0.58      1402\n",
      "\n",
      "avg / total       0.59      0.59      0.59      2765\n",
      "\n",
      "0.591576021259\n"
     ]
    }
   ],
   "source": [
    "# evaluate the model by splitting into train and test sets and build a logistic regression model\n",
    "# name it as \"lr\"\n",
    "X_train, X_test, y_train, y_test = train_test_split(X_logistic, y, test_size=0.3, random_state=0)\n",
    "lr = LogisticRegression()\n",
    "lr.fit(X_train, y_train)\n",
    "#Model evaluation\n",
    "print metrics.accuracy_score(y_test, lr.predict(X_test))\n",
    "print metrics.confusion_matrix(y_test, lr.predict(X_test))\n",
    "print metrics.classification_report(y_test, lr.predict(X_test))\n",
    "print metrics.roc_auc_score(y_test, lr.predict(X_test))"
   ]
  },
  {
   "cell_type": "markdown",
   "metadata": {},
   "source": [
    "- Knn Algorithms is the best one using RFS method as feature selection method. It gives 60.3% of AUC score and very simple model which is only using 2 varialbes (BACKER and Total number of games watched)."
   ]
  },
  {
   "cell_type": "markdown",
   "metadata": {},
   "source": [
    "## Final analysis & storytelling (technical and managerial implications and suggestions). This should be considered the most important section in this project. Your client may be interested in this section only and use the previous sections as more like references. Insightful conclusions should be drawn and communicated with “business” people (e.g., K-State Athletic Department)."
   ]
  },
  {
   "cell_type": "markdown",
   "metadata": {},
   "source": [
    "**Once I have finished arranging dataset, I used hypothesis test, correlation anaylsis and two different feature selection method (SelectKBest and RFS). All analysis shows that YEARS, BACKER, and The number of game watched are significantly important predictors to forecast wherther ticker holder renew their ticker or not. I found KNN Algorithme gives the highest AUC score which is 60.3% and using only two variables (Backer and number of games watched). Therefore, I think it is very simple enough to be used pratically. However, If dataset is updated, additional feature selection and finding adequate model need to be performed again in order to update AUC score. **\n"
   ]
  },
  {
   "cell_type": "markdown",
   "metadata": {},
   "source": [
    "- Who is likely to renew “season ticket”? \n",
    "- Who is likely to defect? \n",
    "- What actions do you recommend K-State Athletic Department (or other sports teams) to take? \n",
    "- What additional variables would you need to improve the model prediction? \n",
    "- Any other suggestions"
   ]
  },
  {
   "cell_type": "markdown",
   "metadata": {},
   "source": [
    "** Ticket holders who have longer ticker hold years, backer club member, and frequent watching game tend to renew their seasonal pass ticket for additional years. \n",
    "I would recommend K-State Athletic Department to take following actions.**\n",
    "\n",
    "**1. Give a call to ticket holder who is not sure to renew ticket for next year and see what promotion they can provide.**\n",
    "**2. Do survey to see why they miss some games in a season and how they could improve their service. **\n",
    "\n",
    "**In order to have better model prediction, Department should make an effort to reduce missing values in their existing or future dataset. In addition, few more data is probably needed such as trasporation method, accommodation, and weather. **\n"
   ]
  }
 ],
 "metadata": {
  "kernelspec": {
   "display_name": "Python 2",
   "language": "python",
   "name": "python2"
  },
  "language_info": {
   "codemirror_mode": {
    "name": "ipython",
    "version": 2
   },
   "file_extension": ".py",
   "mimetype": "text/x-python",
   "name": "python",
   "nbconvert_exporter": "python",
   "pygments_lexer": "ipython2",
   "version": "2.7.14"
  }
 },
 "nbformat": 4,
 "nbformat_minor": 2
}
